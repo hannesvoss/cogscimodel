{
 "cells": [
  {
   "cell_type": "markdown",
   "source": [
    "# Experiment 1\n",
    "\n",
    "This Python notebook serves as a template for your group project for the course \"Modeling in Cognitive Science\".\n",
    "\n",
    "This is the practical part of the group project where you get to implement the computational modeling workflow. In this part, you are expected to:\n",
    "\n",
    "\n",
    "*   Implement at least two computational models relevant for your hypothesis. *(3 points)*\n",
    "*   Simulate behavior from the two models. *(3 points)*\n",
    "*   Implement a procedure for fitting the models to data. *(4 points)*\n",
    "*   Implement a procedure for parameter recovery. *(5 points)*\n",
    "*   (Implement a procedure for model recovery.) *(optional; 2 bonus points)*\n",
    "*   Implement a model comparison. *(5 points)*.\n",
    "\n",
    "You can gain a total of 20 points for the practical part of the group project.\n",
    "\n",
    "**Note:** *Some of the exercises below (e.g. Model Simulation) rely on code from previous exercises (e.g., Model Implementation). In such cases, you are encouraged to rely on functions implemented for previous exercises. That is, you don't have to produce redundant code.*"
   ],
   "metadata": {
    "collapsed": false
   },
   "id": "f205a61e61897e1d"
  },
  {
   "cell_type": "markdown",
   "source": [
    "## Questions to ask:\n",
    "\n",
    "1. can we compare two model-free methods?\n",
    "Yes, as long as we explain why we chose those methods.\n",
    "\n",
    "2. should reward probabilities be random or task-specific? Are they fixed ahead of time? Do they change between trials, do the probabilities depend on what the user chose?\n",
    "3. are we using a single subject's data, or combining multiple people's data and modelling that collectively?\n",
    "4. what is \"the set of parameters\"? what are we trying to model? are we trying to discover alpha, gamma? are reward probabilities something we should model?\n",
    "\n",
    "## Todo for us:\n",
    "1. Get simulation data from CSV\n",
    "2. Decide which parameters to model\n",
    "3. Update model training to use simulation data from the CSV\n",
    "4. generate data\n",
    "\n",
    "## Topics for 19/2:\n",
    "1. Status of [Google Doc](https://docs.google.com/document/d/1WZE8gojf_xb3gKliFXxrriefad8ysWFBFxYyAyXw8gw/edit)\n",
    "2. Visualization of data: what to graph? reward probabilities? user behavior?"
   ],
   "metadata": {
    "collapsed": false
   },
   "id": "b79bdd9e652df847"
  },
  {
   "cell_type": "code",
   "outputs": [],
   "source": [],
   "metadata": {
    "collapsed": false
   },
   "id": "773647be7e6c1d90"
  }
 ],
 "metadata": {
  "kernelspec": {
   "display_name": "Python 3",
   "language": "python",
   "name": "python3"
  },
  "language_info": {
   "codemirror_mode": {
    "name": "ipython",
    "version": 2
   },
   "file_extension": ".py",
   "mimetype": "text/x-python",
   "name": "python",
   "nbconvert_exporter": "python",
   "pygments_lexer": "ipython2",
   "version": "2.7.6"
  }
 },
 "nbformat": 4,
 "nbformat_minor": 5
}
